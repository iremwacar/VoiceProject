{
 "cells": [
  {
   "cell_type": "code",
   "execution_count": 41,
   "metadata": {},
   "outputs": [
    {
     "name": "stdout",
     "output_type": "stream",
     "text": [
      "Model başarıyla yüklendi.\n"
     ]
    }
   ],
   "source": [
    "import joblib\n",
    "\n",
    "# Modeli kaydetme\n",
    "model_filename = r\"..\\Model\\random_forest_model.joblib\"\n",
    "\n",
    "# Modeli yükleme\n",
    "loaded_model = joblib.load(model_filename)\n",
    "print(\"Model başarıyla yüklendi.\")\n"
   ]
  },
  {
   "cell_type": "code",
   "execution_count": 70,
   "metadata": {},
   "outputs": [
    {
     "name": "stdout",
     "output_type": "stream",
     "text": [
      "Tahmin edilen etiket: irem\n"
     ]
    },
    {
     "name": "stderr",
     "output_type": "stream",
     "text": [
      "c:\\Users\\iremm\\.conda\\envs\\BTK-AI\\Lib\\site-packages\\sklearn\\base.py:493: UserWarning: X does not have valid feature names, but MinMaxScaler was fitted with feature names\n",
      "  warnings.warn(\n"
     ]
    }
   ],
   "source": [
    "import joblib\n",
    "import librosa\n",
    "import numpy as np\n",
    "\n",
    "# Scaler ve model dosyalarını yükleme\n",
    "scaler_filename = '..\\\\Model\\\\scaler.joblib'  # Modelin scaler dosyasının yolu\n",
    "model_filename = '..\\\\Model\\\\random_forest_model.joblib'  # Model dosyasının yolu\n",
    "\n",
    "scaler = joblib.load(scaler_filename)\n",
    "model = joblib.load(model_filename)\n",
    "\n",
    "def extract_features_for_prediction(file_path):\n",
    "    \"\"\"Ses dosyasından özellikleri çıkar.\"\"\"\n",
    "    try:\n",
    "        # Ses dosyasını yükle\n",
    "        y, sr = librosa.load(file_path, sr=None)\n",
    "        \n",
    "        # MFCC (Mel-frequency cepstral coefficients) çıkarımı\n",
    "        mfcc = librosa.feature.mfcc(y=y, sr=sr, n_mfcc=13)\n",
    "        mfcc_mean = np.mean(mfcc, axis=1)\n",
    "\n",
    "        # Chroma çıkarımı (müzikal tonlar)\n",
    "        chroma = librosa.feature.chroma_stft(y=y, sr=sr)\n",
    "        chroma_mean = np.mean(chroma, axis=1)\n",
    "\n",
    "        # RMS Energy çıkarımı\n",
    "        rms = librosa.feature.rms(y=y)\n",
    "        rms_mean = np.mean(rms)\n",
    "\n",
    "        # Zero-Crossing Rate çıkarımı\n",
    "        zcr = librosa.feature.zero_crossing_rate(y=y)\n",
    "        zcr_mean = np.mean(zcr)\n",
    "        \n",
    "        # Özellikleri birleştir\n",
    "        features = np.hstack((mfcc_mean, chroma_mean, rms_mean, zcr_mean))\n",
    "        return features\n",
    "\n",
    "    except Exception as e:\n",
    "        print(f\"Error processing {file_path}: {e}\")\n",
    "        return None\n",
    "\n",
    "def predict_audio_with_scaler(file_path):\n",
    "    \"\"\"Ses dosyasını scaler ve model ile test et.\"\"\"\n",
    "    # Özellik çıkarma\n",
    "    features = extract_features_for_prediction(file_path)\n",
    "    if features is None:\n",
    "        print(\"Özellik çıkarma başarısız.\")\n",
    "        return\n",
    "\n",
    "    # Özellikleri normalize et\n",
    "    features = features.reshape(1, -1)  # Modelin tahmin yapabilmesi için 2D array haline getir\n",
    "    normalized_features = scaler.transform(features)\n",
    "\n",
    "    # Model ile tahmin yap\n",
    "    prediction = model.predict(normalized_features)\n",
    "    print(f\"Tahmin edilen etiket: {prediction[0]}\")\n",
    "\n",
    "# Test edilecek ses dosyası\n",
    "test_file = \"C:\\\\VoiceProject\\\\Voice\\\\irem\\\\korku\\\\Iremkorku3.wav\"  # Test ses dosyasının tam yolunu yazın\n",
    "predict_audio_with_scaler(test_file)\n"
   ]
  },
  {
   "cell_type": "code",
   "execution_count": 120,
   "metadata": {},
   "outputs": [
    {
     "name": "stdout",
     "output_type": "stream",
     "text": [
      "Ses kaydediliyor...\n",
      "Ses kaydı tamamlandı.\n",
      "Normalized Features: [[ 1.36619004  0.34576044  0.01982417  0.54066044  0.56113614  0.84972079\n",
      "   0.70376305  0.73185496  0.68730781  0.86607218  0.55638     0.64684724\n",
      "   0.86807254  0.96780311  0.63677266  0.53379176  0.63368783  0.39545825\n",
      "   0.32779468  0.37228987  0.48916065  0.71891036  0.62778826  0.72953809\n",
      "   0.76136776  5.23372801 -0.07128268]]\n",
      "Tahmin edilen sınıf: irem\n"
     ]
    },
    {
     "name": "stderr",
     "output_type": "stream",
     "text": [
      "c:\\Users\\iremm\\.conda\\envs\\BTK-AI\\Lib\\site-packages\\librosa\\core\\pitch.py:101: UserWarning: Trying to estimate tuning from empty frequency set.\n",
      "  return pitch_tuning(\n",
      "c:\\Users\\iremm\\.conda\\envs\\BTK-AI\\Lib\\site-packages\\sklearn\\base.py:493: UserWarning: X does not have valid feature names, but MinMaxScaler was fitted with feature names\n",
      "  warnings.warn(\n"
     ]
    }
   ],
   "source": [
    "import sounddevice as sd\n",
    "import numpy as np\n",
    "import librosa\n",
    "import joblib\n",
    "from sklearn.preprocessing import MinMaxScaler\n",
    "\n",
    "# Özellikleri çıkarma (MFCC, Chroma, RMS, ZCR)\n",
    "def extract_features_from_audio(audio_data, sr=16000):\n",
    "    try:\n",
    "        # MFCC çıkarımı\n",
    "        mfcc = librosa.feature.mfcc(y=audio_data, sr=sr, n_mfcc=13)\n",
    "        mfcc_mean = np.mean(mfcc, axis=1)  # MFCC ortalamasını al\n",
    "\n",
    "        # Chroma çıkarımı\n",
    "        chroma = librosa.feature.chroma_stft(y=audio_data, sr=sr)\n",
    "        chroma_mean = np.mean(chroma, axis=1)\n",
    "\n",
    "        # RMS Energy çıkarımı\n",
    "        rms = librosa.feature.rms(y=audio_data)\n",
    "        rms_mean = np.mean(rms)\n",
    "\n",
    "        # Zero-Crossing Rate çıkarımı\n",
    "        zcr = librosa.feature.zero_crossing_rate(y=audio_data)\n",
    "        zcr_mean = np.mean(zcr)\n",
    "        \n",
    "        # Özellikleri birleştir\n",
    "        features = np.hstack((mfcc_mean, chroma_mean, rms_mean, zcr_mean))\n",
    "        return features\n",
    "    \n",
    "    except Exception as e:\n",
    "        print(f\"Error processing audio: {e}\")\n",
    "        return None\n",
    "\n",
    "# Mikrofondan ses kaydetme\n",
    "def record_audio(duration=5, fs=16000):\n",
    "    print(\"Ses kaydediliyor...\")\n",
    "    audio_data = sd.rec(int(duration * fs), samplerate=fs, channels=1, dtype='float32')\n",
    "    sd.wait()  # Kaydın tamamlanmasını bekleyin\n",
    "    print(\"Ses kaydı tamamlandı.\")\n",
    "    return audio_data.flatten()  # Ses verisini düzleştiriyoruz (1D array)\n",
    "\n",
    "# Ses kaydını işleyip tahmin yapma\n",
    "def process_audio_file(audio_data, scaler, model):\n",
    "    # 1. Adım: Veriyi 0-1 arası normalizasyon\n",
    "    audio_data = (audio_data - np.min(audio_data)) / (np.max(audio_data) - np.min(audio_data))  # 0-1 arası\n",
    "\n",
    "    # 2. Adım: Özellik çıkarımı\n",
    "    features = extract_features_from_audio(audio_data)\n",
    "\n",
    "    if features is not None:\n",
    "        # 3. Adım: Özellikleri normalize etme\n",
    "        normalized_features = scaler.transform([features])\n",
    "        print(f\"Normalized Features: {normalized_features}\")\n",
    "\n",
    "        # 4. Adım: Model ile tahmin yapma\n",
    "        prediction = model.predict(normalized_features)\n",
    "        print(f\"Tahmin edilen sınıf: {prediction[0]}\")\n",
    "    else:\n",
    "        print(\"Özellik çıkarımı yapılamadı, lütfen sesi yeniden kaydedin.\")\n",
    "\n",
    "# Model ve scaler'ı yükleyin\n",
    "model = joblib.load('..\\Model\\\\random_forest_model.joblib')\n",
    "scaler = joblib.load('..\\Model\\\\scaler.joblib')\n",
    "\n",
    "# Mikrofondan ses kaydedin (5 saniye)\n",
    "audio_data = record_audio(duration=5)\n",
    "\n",
    "# Kaydedilen sesi işleyip tahmin yapma\n",
    "process_audio_file(audio_data, scaler, model)\n"
   ]
  }
 ],
 "metadata": {
  "kernelspec": {
   "display_name": "BTK-AI",
   "language": "python",
   "name": "python3"
  },
  "language_info": {
   "codemirror_mode": {
    "name": "ipython",
    "version": 3
   },
   "file_extension": ".py",
   "mimetype": "text/x-python",
   "name": "python",
   "nbconvert_exporter": "python",
   "pygments_lexer": "ipython3",
   "version": "3.11.9"
  }
 },
 "nbformat": 4,
 "nbformat_minor": 2
}
